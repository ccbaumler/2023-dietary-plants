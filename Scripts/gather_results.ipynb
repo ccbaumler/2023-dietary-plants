{
 "cells": [
  {
   "cell_type": "code",
   "execution_count": 2,
   "metadata": {},
   "outputs": [],
   "source": [
    "import pandas as pd\n",
    "import os\n",
    "import matplotlib.pyplot as plt\n",
    "import seaborn as sns"
   ]
  },
  {
   "cell_type": "code",
   "execution_count": 3,
   "metadata": {},
   "outputs": [],
   "source": [
    "folder_paths =[\"../snakemake-workflow/output/weight_loss/all_chloroplast.100/cmon_name_annot/\",\n",
    "              \"../snakemake-workflow/output/weight_loss/all_chloroplast.1000/cmon_name_annot\",\n",
    "              \"../snakemake-workflow/output/weight_loss/crop_chloroplast.100/cmon_name_annot/\",\n",
    "              \"../snakemake-workflow/output/weight_loss/crop_chloroplast.1000/cmon_name_annot/\",\n",
    "              \"../snakemake-workflow/output/weight_loss/trnl.1/cmon_name_annot/\"\n",
    "              ]\n",
    "dataframes = []"
   ]
  },
  {
   "cell_type": "code",
   "execution_count": 4,
   "metadata": {},
   "outputs": [
    {
     "name": "stdout",
     "output_type": "stream",
     "text": [
      "../snakemake-workflow/output/weight_loss/all_chloroplast.100/cmon_name_annot/\n",
      "../snakemake-workflow/output/weight_loss/all_chloroplast.1000/cmon_name_annot\n",
      "../snakemake-workflow/output/weight_loss/crop_chloroplast.100/cmon_name_annot/\n",
      "../snakemake-workflow/output/weight_loss/crop_chloroplast.1000/cmon_name_annot/\n",
      "../snakemake-workflow/output/weight_loss/trnl.1/cmon_name_annot/\n"
     ]
    }
   ],
   "source": [
    "for folder_path in folder_paths:\n",
    "    print(f\"{folder_path}\")\n",
    "    files = os.listdir(folder_path)\n",
    "    for file in files:\n",
    "        if file.endswith('.csv'):\n",
    "            file_path = os.path.join(folder_path, file)\n",
    "            df = pd.read_csv(file_path)\n",
    "            dataframes.append(df)\n",
    "final_df = pd.concat(dataframes, ignore_index=True)"
   ]
  },
  {
   "cell_type": "code",
   "execution_count": 5,
   "metadata": {},
   "outputs": [],
   "source": [
    "db_key_dict = {'db.crop-plant-entrez.ref.1000.sig.zip': 'crop_chloroplast', \n",
    "                'db.plant-entrez-ref.1000.sig.zip': 'all_chloroplast', \n",
    "                'db.crop-plant-entrez.ref.100.sig.zip': 'crop_chloroplast', \n",
    "                'db.plant-entrez-ref.100.sig.zip': 'all_chloroplast', \n",
    "                'db.trnL-entrez-ref.fasta.bz2.sig': 'trnl_1'}"
   ]
  },
  {
   "cell_type": "code",
   "execution_count": 6,
   "metadata": {},
   "outputs": [
    {
     "data": {
      "text/plain": [
       "(19484, 42)"
      ]
     },
     "execution_count": 6,
     "metadata": {},
     "output_type": "execute_result"
    }
   ],
   "source": [
    "final_df.shape"
   ]
  },
  {
   "cell_type": "code",
   "execution_count": 7,
   "metadata": {},
   "outputs": [
    {
     "data": {
      "text/plain": [
       "filename\n",
       "../db/Sketched-db/db.trnL-entrez-ref.fasta.bz2.sig                                       6073\n",
       "/home/sjnair/2023-dietary-plants/db/Sketched-db/db.crop-plant-entrez.ref.100.sig.zip     2559\n",
       "/home/sjnair/2023-dietary-plants/db/Sketched-db/db.crop-plant-entrez.ref.1000.sig.zip     476\n",
       "/home/sjnair/2023-dietary-plants/db/Sketched-db/db.plant-entrez-ref.100.sig.zip          9124\n",
       "/home/sjnair/2023-dietary-plants/db/Sketched-db/db.plant-entrez-ref.1000.sig.zip         1252\n",
       "dtype: int64"
      ]
     },
     "execution_count": 7,
     "metadata": {},
     "output_type": "execute_result"
    }
   ],
   "source": [
    "final_df.groupby('filename').size()"
   ]
  },
  {
   "cell_type": "code",
   "execution_count": 8,
   "metadata": {},
   "outputs": [
    {
     "data": {
      "text/plain": [
       "Index(['intersect_bp', 'f_orig_query', 'f_match', 'f_unique_to_query',\n",
       "       'f_unique_weighted', 'average_abund', 'median_abund', 'std_abund',\n",
       "       'filename', 'name', 'md5', 'f_match_orig', 'unique_intersect_bp',\n",
       "       'gather_result_rank', 'remaining_bp', 'query_filename', 'query_name',\n",
       "       'query_md5', 'query_bp', 'ksize', 'moltype', 'scaled', 'query_n_hashes',\n",
       "       'query_abundance', 'query_containment_ani', 'match_containment_ani',\n",
       "       'average_containment_ani', 'max_containment_ani',\n",
       "       'potential_false_negative', 'n_unique_weighted_found',\n",
       "       'sum_weighted_found', 'total_weighted_hashes', 'scientific_name',\n",
       "       'Unnamed: 0_x', 'USDA_id', 'usda_common_name', 'Unnamed: 0_y',\n",
       "       'trnL_id', 'trnl_common_name', 'Unnamed: 0', 'foodb_id',\n",
       "       'foodb_common_name'],\n",
       "      dtype='object')"
      ]
     },
     "execution_count": 8,
     "metadata": {},
     "output_type": "execute_result"
    }
   ],
   "source": [
    "final_df.columns"
   ]
  },
  {
   "cell_type": "code",
   "execution_count": 9,
   "metadata": {},
   "outputs": [],
   "source": [
    "def db_shorthand(filename):\n",
    "    return db_key_dict[filename.split('/')[-1]]"
   ]
  },
  {
   "cell_type": "code",
   "execution_count": 10,
   "metadata": {},
   "outputs": [
    {
     "data": {
      "text/plain": [
       "/home/sjnair/2023-dietary-plants/db/Sketched-db/db.plant-entrez-ref.100.sig.zip          9124\n",
       "../db/Sketched-db/db.trnL-entrez-ref.fasta.bz2.sig                                       6073\n",
       "/home/sjnair/2023-dietary-plants/db/Sketched-db/db.crop-plant-entrez.ref.100.sig.zip     2559\n",
       "/home/sjnair/2023-dietary-plants/db/Sketched-db/db.plant-entrez-ref.1000.sig.zip         1252\n",
       "/home/sjnair/2023-dietary-plants/db/Sketched-db/db.crop-plant-entrez.ref.1000.sig.zip     476\n",
       "Name: filename, dtype: int64"
      ]
     },
     "execution_count": 10,
     "metadata": {},
     "output_type": "execute_result"
    }
   ],
   "source": [
    "final_df['filename'].value_counts()"
   ]
  },
  {
   "cell_type": "code",
   "execution_count": 11,
   "metadata": {},
   "outputs": [],
   "source": [
    "final_df['db'] = final_df['filename'].apply(db_shorthand)"
   ]
  },
  {
   "cell_type": "code",
   "execution_count": 12,
   "metadata": {},
   "outputs": [
    {
     "data": {
      "text/plain": [
       "array(['all_chloroplast', 'crop_chloroplast', 'trnl_1'], dtype=object)"
      ]
     },
     "execution_count": 12,
     "metadata": {},
     "output_type": "execute_result"
    }
   ],
   "source": [
    "final_df['db'].unique()"
   ]
  },
  {
   "cell_type": "code",
   "execution_count": 13,
   "metadata": {},
   "outputs": [],
   "source": [
    "def cmon_name_col(df): # combines the 3 sources into one column. Priority given to USDA first.\n",
    "    priority_order =['usda_common_name','trnl_common_name','foodb_common_name']\n",
    "    df['common_name'] = df['usda_common_name']\n",
    "    for column in priority_order[1:]:\n",
    "        df['common_name'] = df['common_name'].combine_first(df[column])"
   ]
  },
  {
   "cell_type": "code",
   "execution_count": 14,
   "metadata": {},
   "outputs": [],
   "source": [
    "cmon_name_col(final_df)"
   ]
  },
  {
   "cell_type": "code",
   "execution_count": 15,
   "metadata": {},
   "outputs": [
    {
     "data": {
      "text/plain": [
       "velvet bean              162\n",
       "avocado                   99\n",
       "rough lemon               96\n",
       "oysternut                 90\n",
       "tea                       86\n",
       "                        ... \n",
       "California fan palm        1\n",
       "buzzy lizzy                1\n",
       "alligatorweed              1\n",
       "narrowleaf goldshower      1\n",
       "pygmy waterlily            1\n",
       "Name: usda_common_name, Length: 592, dtype: int64"
      ]
     },
     "execution_count": 15,
     "metadata": {},
     "output_type": "execute_result"
    }
   ],
   "source": [
    "final_df['usda_common_name'].value_counts()"
   ]
  },
  {
   "cell_type": "code",
   "execution_count": 16,
   "metadata": {},
   "outputs": [
    {
     "data": {
      "text/plain": [
       "velvet bean          162\n",
       "avocado               99\n",
       "rough lemon           96\n",
       "oysternut             90\n",
       "tea                   86\n",
       "                    ... \n",
       "Brazilian vervain      1\n",
       "dragontree             1\n",
       "flame bottletree       1\n",
       "fuchsia begonia        1\n",
       "meadow ryegrass        1\n",
       "Name: common_name, Length: 671, dtype: int64"
      ]
     },
     "execution_count": 16,
     "metadata": {},
     "output_type": "execute_result"
    }
   ],
   "source": [
    "final_df['common_name'].value_counts()"
   ]
  },
  {
   "cell_type": "markdown",
   "metadata": {},
   "source": [
    "## chart making"
   ]
  },
  {
   "cell_type": "code",
   "execution_count": 17,
   "metadata": {},
   "outputs": [
    {
     "data": {
      "text/plain": [
       "Index(['intersect_bp', 'f_orig_query', 'f_match', 'f_unique_to_query',\n",
       "       'f_unique_weighted', 'average_abund', 'median_abund', 'std_abund',\n",
       "       'filename', 'name', 'md5', 'f_match_orig', 'unique_intersect_bp',\n",
       "       'gather_result_rank', 'remaining_bp', 'query_filename', 'query_name',\n",
       "       'query_md5', 'query_bp', 'ksize', 'moltype', 'scaled', 'query_n_hashes',\n",
       "       'query_abundance', 'query_containment_ani', 'match_containment_ani',\n",
       "       'average_containment_ani', 'max_containment_ani',\n",
       "       'potential_false_negative', 'n_unique_weighted_found',\n",
       "       'sum_weighted_found', 'total_weighted_hashes', 'scientific_name',\n",
       "       'Unnamed: 0_x', 'USDA_id', 'usda_common_name', 'Unnamed: 0_y',\n",
       "       'trnL_id', 'trnl_common_name', 'Unnamed: 0', 'foodb_id',\n",
       "       'foodb_common_name', 'db', 'common_name'],\n",
       "      dtype='object')"
      ]
     },
     "execution_count": 17,
     "metadata": {},
     "output_type": "execute_result"
    }
   ],
   "source": [
    "final_df.columns"
   ]
  },
  {
   "cell_type": "code",
   "execution_count": 18,
   "metadata": {},
   "outputs": [],
   "source": [
    "grouped = final_df.groupby(['query_name', 'ksize', 'scaled','db']).size().reset_index(name='match_count')"
   ]
  },
  {
   "cell_type": "code",
   "execution_count": 19,
   "metadata": {},
   "outputs": [],
   "source": [
    "grouped_2 = final_df.dropna(subset=['common_name'], inplace=False).groupby(['query_name', 'ksize', 'scaled','db']).size().reset_index(name='common_name_match_count')"
   ]
  },
  {
   "cell_type": "code",
   "execution_count": 20,
   "metadata": {},
   "outputs": [
    {
     "data": {
      "text/html": [
       "<div>\n",
       "<style scoped>\n",
       "    .dataframe tbody tr th:only-of-type {\n",
       "        vertical-align: middle;\n",
       "    }\n",
       "\n",
       "    .dataframe tbody tr th {\n",
       "        vertical-align: top;\n",
       "    }\n",
       "\n",
       "    .dataframe thead th {\n",
       "        text-align: right;\n",
       "    }\n",
       "</style>\n",
       "<table border=\"1\" class=\"dataframe\">\n",
       "  <thead>\n",
       "    <tr style=\"text-align: right;\">\n",
       "      <th></th>\n",
       "      <th>query_name</th>\n",
       "      <th>ksize</th>\n",
       "      <th>scaled</th>\n",
       "      <th>db</th>\n",
       "      <th>match_count</th>\n",
       "    </tr>\n",
       "  </thead>\n",
       "  <tbody>\n",
       "    <tr>\n",
       "      <th>0</th>\n",
       "      <td>ERR11520689</td>\n",
       "      <td>21</td>\n",
       "      <td>100</td>\n",
       "      <td>all_chloroplast</td>\n",
       "      <td>130</td>\n",
       "    </tr>\n",
       "    <tr>\n",
       "      <th>1</th>\n",
       "      <td>ERR11520689</td>\n",
       "      <td>21</td>\n",
       "      <td>100</td>\n",
       "      <td>crop_chloroplast</td>\n",
       "      <td>27</td>\n",
       "    </tr>\n",
       "    <tr>\n",
       "      <th>2</th>\n",
       "      <td>ERR11520689</td>\n",
       "      <td>21</td>\n",
       "      <td>100</td>\n",
       "      <td>trnl_1</td>\n",
       "      <td>66</td>\n",
       "    </tr>\n",
       "    <tr>\n",
       "      <th>3</th>\n",
       "      <td>ERR11520689</td>\n",
       "      <td>21</td>\n",
       "      <td>1000</td>\n",
       "      <td>all_chloroplast</td>\n",
       "      <td>18</td>\n",
       "    </tr>\n",
       "    <tr>\n",
       "      <th>4</th>\n",
       "      <td>ERR11520689</td>\n",
       "      <td>21</td>\n",
       "      <td>1000</td>\n",
       "      <td>crop_chloroplast</td>\n",
       "      <td>6</td>\n",
       "    </tr>\n",
       "    <tr>\n",
       "      <th>...</th>\n",
       "      <td>...</td>\n",
       "      <td>...</td>\n",
       "      <td>...</td>\n",
       "      <td>...</td>\n",
       "      <td>...</td>\n",
       "    </tr>\n",
       "    <tr>\n",
       "      <th>593</th>\n",
       "      <td>ERR11520728</td>\n",
       "      <td>51</td>\n",
       "      <td>100</td>\n",
       "      <td>all_chloroplast</td>\n",
       "      <td>27</td>\n",
       "    </tr>\n",
       "    <tr>\n",
       "      <th>594</th>\n",
       "      <td>ERR11520728</td>\n",
       "      <td>51</td>\n",
       "      <td>100</td>\n",
       "      <td>crop_chloroplast</td>\n",
       "      <td>15</td>\n",
       "    </tr>\n",
       "    <tr>\n",
       "      <th>595</th>\n",
       "      <td>ERR11520728</td>\n",
       "      <td>51</td>\n",
       "      <td>100</td>\n",
       "      <td>trnl_1</td>\n",
       "      <td>27</td>\n",
       "    </tr>\n",
       "    <tr>\n",
       "      <th>596</th>\n",
       "      <td>ERR11520728</td>\n",
       "      <td>51</td>\n",
       "      <td>1000</td>\n",
       "      <td>all_chloroplast</td>\n",
       "      <td>7</td>\n",
       "    </tr>\n",
       "    <tr>\n",
       "      <th>597</th>\n",
       "      <td>ERR11520728</td>\n",
       "      <td>51</td>\n",
       "      <td>1000</td>\n",
       "      <td>crop_chloroplast</td>\n",
       "      <td>4</td>\n",
       "    </tr>\n",
       "  </tbody>\n",
       "</table>\n",
       "<p>598 rows × 5 columns</p>\n",
       "</div>"
      ],
      "text/plain": [
       "      query_name  ksize  scaled                db  match_count\n",
       "0    ERR11520689     21     100   all_chloroplast          130\n",
       "1    ERR11520689     21     100  crop_chloroplast           27\n",
       "2    ERR11520689     21     100            trnl_1           66\n",
       "3    ERR11520689     21    1000   all_chloroplast           18\n",
       "4    ERR11520689     21    1000  crop_chloroplast            6\n",
       "..           ...    ...     ...               ...          ...\n",
       "593  ERR11520728     51     100   all_chloroplast           27\n",
       "594  ERR11520728     51     100  crop_chloroplast           15\n",
       "595  ERR11520728     51     100            trnl_1           27\n",
       "596  ERR11520728     51    1000   all_chloroplast            7\n",
       "597  ERR11520728     51    1000  crop_chloroplast            4\n",
       "\n",
       "[598 rows x 5 columns]"
      ]
     },
     "execution_count": 20,
     "metadata": {},
     "output_type": "execute_result"
    }
   ],
   "source": [
    "grouped"
   ]
  },
  {
   "cell_type": "code",
   "execution_count": 21,
   "metadata": {},
   "outputs": [
    {
     "data": {
      "text/html": [
       "<div>\n",
       "<style scoped>\n",
       "    .dataframe tbody tr th:only-of-type {\n",
       "        vertical-align: middle;\n",
       "    }\n",
       "\n",
       "    .dataframe tbody tr th {\n",
       "        vertical-align: top;\n",
       "    }\n",
       "\n",
       "    .dataframe thead th {\n",
       "        text-align: right;\n",
       "    }\n",
       "</style>\n",
       "<table border=\"1\" class=\"dataframe\">\n",
       "  <thead>\n",
       "    <tr style=\"text-align: right;\">\n",
       "      <th></th>\n",
       "      <th>query_name</th>\n",
       "      <th>ksize</th>\n",
       "      <th>scaled</th>\n",
       "      <th>db</th>\n",
       "      <th>common_name_match_count</th>\n",
       "    </tr>\n",
       "  </thead>\n",
       "  <tbody>\n",
       "    <tr>\n",
       "      <th>0</th>\n",
       "      <td>ERR11520689</td>\n",
       "      <td>21</td>\n",
       "      <td>100</td>\n",
       "      <td>all_chloroplast</td>\n",
       "      <td>36</td>\n",
       "    </tr>\n",
       "    <tr>\n",
       "      <th>1</th>\n",
       "      <td>ERR11520689</td>\n",
       "      <td>21</td>\n",
       "      <td>100</td>\n",
       "      <td>crop_chloroplast</td>\n",
       "      <td>26</td>\n",
       "    </tr>\n",
       "    <tr>\n",
       "      <th>2</th>\n",
       "      <td>ERR11520689</td>\n",
       "      <td>21</td>\n",
       "      <td>100</td>\n",
       "      <td>trnl_1</td>\n",
       "      <td>20</td>\n",
       "    </tr>\n",
       "    <tr>\n",
       "      <th>3</th>\n",
       "      <td>ERR11520689</td>\n",
       "      <td>21</td>\n",
       "      <td>1000</td>\n",
       "      <td>all_chloroplast</td>\n",
       "      <td>4</td>\n",
       "    </tr>\n",
       "    <tr>\n",
       "      <th>4</th>\n",
       "      <td>ERR11520689</td>\n",
       "      <td>21</td>\n",
       "      <td>1000</td>\n",
       "      <td>crop_chloroplast</td>\n",
       "      <td>6</td>\n",
       "    </tr>\n",
       "    <tr>\n",
       "      <th>...</th>\n",
       "      <td>...</td>\n",
       "      <td>...</td>\n",
       "      <td>...</td>\n",
       "      <td>...</td>\n",
       "      <td>...</td>\n",
       "    </tr>\n",
       "    <tr>\n",
       "      <th>578</th>\n",
       "      <td>ERR11520728</td>\n",
       "      <td>51</td>\n",
       "      <td>100</td>\n",
       "      <td>all_chloroplast</td>\n",
       "      <td>11</td>\n",
       "    </tr>\n",
       "    <tr>\n",
       "      <th>579</th>\n",
       "      <td>ERR11520728</td>\n",
       "      <td>51</td>\n",
       "      <td>100</td>\n",
       "      <td>crop_chloroplast</td>\n",
       "      <td>15</td>\n",
       "    </tr>\n",
       "    <tr>\n",
       "      <th>580</th>\n",
       "      <td>ERR11520728</td>\n",
       "      <td>51</td>\n",
       "      <td>100</td>\n",
       "      <td>trnl_1</td>\n",
       "      <td>10</td>\n",
       "    </tr>\n",
       "    <tr>\n",
       "      <th>581</th>\n",
       "      <td>ERR11520728</td>\n",
       "      <td>51</td>\n",
       "      <td>1000</td>\n",
       "      <td>all_chloroplast</td>\n",
       "      <td>4</td>\n",
       "    </tr>\n",
       "    <tr>\n",
       "      <th>582</th>\n",
       "      <td>ERR11520728</td>\n",
       "      <td>51</td>\n",
       "      <td>1000</td>\n",
       "      <td>crop_chloroplast</td>\n",
       "      <td>4</td>\n",
       "    </tr>\n",
       "  </tbody>\n",
       "</table>\n",
       "<p>583 rows × 5 columns</p>\n",
       "</div>"
      ],
      "text/plain": [
       "      query_name  ksize  scaled                db  common_name_match_count\n",
       "0    ERR11520689     21     100   all_chloroplast                       36\n",
       "1    ERR11520689     21     100  crop_chloroplast                       26\n",
       "2    ERR11520689     21     100            trnl_1                       20\n",
       "3    ERR11520689     21    1000   all_chloroplast                        4\n",
       "4    ERR11520689     21    1000  crop_chloroplast                        6\n",
       "..           ...    ...     ...               ...                      ...\n",
       "578  ERR11520728     51     100   all_chloroplast                       11\n",
       "579  ERR11520728     51     100  crop_chloroplast                       15\n",
       "580  ERR11520728     51     100            trnl_1                       10\n",
       "581  ERR11520728     51    1000   all_chloroplast                        4\n",
       "582  ERR11520728     51    1000  crop_chloroplast                        4\n",
       "\n",
       "[583 rows x 5 columns]"
      ]
     },
     "execution_count": 21,
     "metadata": {},
     "output_type": "execute_result"
    }
   ],
   "source": [
    "grouped_2"
   ]
  },
  {
   "cell_type": "code",
   "execution_count": 22,
   "metadata": {},
   "outputs": [
    {
     "data": {
      "image/png": "[encoded data removed]",
      "text/plain": [
       "<Figure size 1500x1000 with 6 Axes>"
      ]
     },
     "metadata": {},
     "output_type": "display_data"
    }
   ],
   "source": [
    "\n",
    "\n",
    "# Set up the subplots\n",
    "fig, axes = plt.subplots(nrows=2, ncols=3, figsize=(15, 10))\n",
    "\n",
    "# Plot the first box plot\n",
    "sns.boxplot(x='scaled', y='match_count', hue='ksize', data=grouped[grouped['db'] == 'all_chloroplast'], ax=axes[0,0])\n",
    "axes[0,0].set_title('all_chloroplast')\n",
    "\n",
    "# Plot the second box plot\n",
    "sns.boxplot(x='scaled', y='match_count', hue='ksize', data=grouped[grouped['db'] == 'crop_chloroplast'], ax=axes[0,1])\n",
    "axes[0,1].set_title('crop_chloroplast')\n",
    "\n",
    "# Plot the third box plot\n",
    "sns.boxplot(x='scaled', y='match_count', hue='ksize', data=grouped[grouped['db'] == 'trnl_1'], ax=axes[0,2])\n",
    "axes[0,2].set_title('trnl')\n",
    "\n",
    "\n",
    "# Plot the first box plot\n",
    "sns.boxplot(x='scaled', y='common_name_match_count', hue='ksize', data=grouped_2[grouped_2['db'] == 'all_chloroplast'], ax=axes[1,0])\n",
    "axes[1,0].set_title('all_chloroplast')\n",
    "\n",
    "# Plot the second box plot\n",
    "sns.boxplot(x='scaled', y='common_name_match_count', hue='ksize', data=grouped_2[grouped_2['db'] == 'crop_chloroplast'], ax=axes[1,1])\n",
    "axes[1,1].set_title('crop_chloroplast')\n",
    "\n",
    "# Plot the third box plot\n",
    "sns.boxplot(x='scaled', y='common_name_match_count', hue='ksize', data=grouped_2[grouped_2['db'] == 'trnl_1'], ax=axes[1,2])\n",
    "axes[1,2].set_title('trnl')\n",
    "\n",
    "# Adjust layout and show the plots\n",
    "plt.suptitle(\"Box plot of number of gather matches for different databases\")\n",
    "plt.tight_layout()\n",
    "plt.show()\n"
   ]
  },
  {
   "cell_type": "markdown",
   "metadata": {},
   "source": [
    "Summary stats"
   ]
  },
  {
   "cell_type": "code",
   "execution_count": 23,
   "metadata": {},
   "outputs": [
    {
     "data": {
      "text/plain": [
       "db                scaled  ksize\n",
       "all_chloroplast   100     21       5564\n",
       "                          31       2438\n",
       "                          51       1122\n",
       "                  1000    21        781\n",
       "                          31        271\n",
       "                          51        200\n",
       "crop_chloroplast  100     21       1245\n",
       "                          31        819\n",
       "                          51        495\n",
       "                  1000    21        213\n",
       "                          31        136\n",
       "                          51        127\n",
       "trnl_1            100     21       2637\n",
       "                          31       2333\n",
       "                          51       1103\n",
       "dtype: int64"
      ]
     },
     "execution_count": 23,
     "metadata": {},
     "output_type": "execute_result"
    }
   ],
   "source": [
    "final_df.groupby(['db','scaled','ksize']).size()"
   ]
  },
  {
   "cell_type": "code",
   "execution_count": 24,
   "metadata": {},
   "outputs": [
    {
     "data": {
      "text/plain": [
       "velvet bean             79\n",
       "locoto                  49\n",
       "oysternut               41\n",
       "multibloom hoarypea     38\n",
       "chirauli nut            36\n",
       "sponge gourd            36\n",
       "theobroma               36\n",
       "avocado                 33\n",
       "herb bennet             33\n",
       "coyote tobacco          33\n",
       "cultivated cockscomb    32\n",
       "jiang guo xian          31\n",
       "snakegourd              29\n",
       "splitlip hempnettle     29\n",
       "American shoreweed      29\n",
       "Name: common_name, dtype: int64"
      ]
     },
     "execution_count": 24,
     "metadata": {},
     "output_type": "execute_result"
    }
   ],
   "source": [
    "final_df[final_df['db']=='all_chloroplast']['common_name'].value_counts()[:15]"
   ]
  },
  {
   "cell_type": "code",
   "execution_count": 28,
   "metadata": {},
   "outputs": [
    {
     "data": {
      "text/plain": [
       "coriander              34\n",
       "avocado                33\n",
       "rocoto                 31\n",
       "Indian lettuce         30\n",
       "apple                  30\n",
       "Amur grape             27\n",
       "timothy                27\n",
       "velvet bean            26\n",
       "tea                    24\n",
       "kidney bean            21\n",
       "theobroma              15\n",
       "cinnamon               15\n",
       "edible banana          12\n",
       "rough lemon            11\n",
       "pistachio nut          11\n",
       "sweet osmanthus         9\n",
       "muscadine               9\n",
       "red clover              8\n",
       "Barbados shrub          8\n",
       "rambutan                6\n",
       "bignay                  6\n",
       "crookneck squash        5\n",
       "garden asparagus        5\n",
       "common jujube           5\n",
       "chia                    5\n",
       "breadfruit              5\n",
       "English walnut          4\n",
       "sorghum                 4\n",
       "sunset-hibiscus         4\n",
       "jungle rice             3\n",
       "common reed             3\n",
       "black medick            3\n",
       "white lupine            3\n",
       "cherry plum             3\n",
       "Japanese raisintree     3\n",
       "common tansy            2\n",
       "European chestnut       2\n",
       "Vera cruz pepper        2\n",
       "syzygium                2\n",
       "kitchen sage            2\n",
       "Name: common_name, dtype: int64"
      ]
     },
     "execution_count": 28,
     "metadata": {},
     "output_type": "execute_result"
    }
   ],
   "source": [
    "# params\n",
    "cond1 = final_df['db']=='crop_chloroplast'\n",
    "cond2= final_df['scaled']==100\n",
    "cond3 =final_df['ksize']==51\n",
    "\n",
    "final_df[cond1 & cond2 & cond3]['common_name'].value_counts()[:40]"
   ]
  }
 ],
 "metadata": {
  "kernelspec": {
   "display_name": "Python 3",
   "language": "python",
   "name": "python3"
  },
  "language_info": {
   "codemirror_mode": {
    "name": "ipython",
    "version": 3
   },
   "file_extension": ".py",
   "mimetype": "text/x-python",
   "name": "python",
   "nbconvert_exporter": "python",
   "pygments_lexer": "ipython3",
   "version": "3.11.3"
  },
  "orig_nbformat": 4
 },
 "nbformat": 4,
 "nbformat_minor": 2
}
