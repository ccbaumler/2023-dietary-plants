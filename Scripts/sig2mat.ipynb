{
 "cells": [
  {
   "cell_type": "code",
   "execution_count": 2,
   "metadata": {},
   "outputs": [],
   "source": [
    "import pandas as pd\n",
    "import os\n",
    "import zipfile\n",
    "import json\n",
    "import glob\n",
    "from sklearn.model_selection import train_test_split\n",
    "from sklearn.ensemble import RandomForestClassifier\n",
    "from sklearn.metrics import accuracy_score, confusion_matrix\n",
    "import seaborn as sns\n",
    "import matplotlib.pyplot as plt\n",
    "import warnings\n",
    "warnings.filterwarnings('ignore')"
   ]
  },
  {
   "cell_type": "markdown",
   "metadata": {},
   "source": [
    "group 1 - 2089 unique hashes\n",
    "group 2 - 3357 unique hashes\n",
    "738 common hashes"
   ]
  },
  {
   "cell_type": "code",
   "execution_count": 3,
   "metadata": {},
   "outputs": [],
   "source": [
    "def fetch_files(group,db,scale,k):\n",
    "    hash_matches_path = f\"..\\\\snakemake-workflow\\\\output\\\\{group}\\\\{db}.{scale}\\\\hash_matches\\\\\"\n",
    "    ext = f\"*{k}.query-matches.sig\"\n",
    "\n",
    "    target_files = glob.glob(os.path.join(hash_matches_path,ext))\n",
    "    return target_files\n",
    "\n",
    "\n",
    "\n",
    "def sig2dict(target_files):    \n",
    "    data_dict ={}\n",
    "    for i in range(len(target_files)):\n",
    "        sample = target_files[i].split('\\\\')[-1].split('.')[0]\n",
    "        with open(target_files[i]) as f:\n",
    "            js = json.loads(f.read())\n",
    "        data_dict[sample] = [js[0]['signatures'][0]['mins'],js[0]['signatures'][0]['abundances']]\n",
    "    return data_dict\n",
    "\n",
    "\n",
    "def dict2df(data_dict):\n",
    "    df = pd.DataFrame(index=data_dict.keys())\n",
    "    for sample, (hashes, values) in data_dict.items():\n",
    "        for hash_val, value in zip(hashes, values):\n",
    "            df.loc[sample, hash_val] = value #slow and defragmented? apparently\n",
    "\n",
    "    # Fill NaN values with 0\n",
    "    return df.fillna(0)\n",
    "\n",
    "def group_df(group,db,scale,k):\n",
    "    group_files = fetch_files(group,db,scale,k)\n",
    "    group_dict = sig2dict(group_files)\n",
    "    group_df = dict2df(group_dict)\n",
    "    group_df['group'] = group\n",
    "    return group_df\n",
    "\n",
    "def combine_groups(group1_df, group2_df):   \n",
    "    combined_df = pd.concat([group1_df,group2_df], axis=0)\n",
    "    combined_df = combined_df.fillna(0)\n",
    "    return combined_df\n",
    "    \n",
    "def fit_rf(combined_df,output_dir):    \n",
    "    y = combined_df['group']\n",
    "    X = combined_df.drop('group',axis=1)\n",
    "\n",
    "    X_train, X_test, y_train, y_test = train_test_split(X,y,test_size=0.2,random_state=42)\n",
    "\n",
    "    model = RandomForestClassifier(n_estimators=100, random_state=42)\n",
    "\n",
    "    model.fit(X_train, y_train)\n",
    "    y_pred = model.predict(X_test)\n",
    "\n",
    "    # Calculate accuracy\n",
    "    accuracy = accuracy_score(y_test, y_pred)\n",
    "    print(f\"Accuracy: {accuracy:.2f}\")\n",
    "\n",
    "    # Build the confusion matrix\n",
    "    cm = confusion_matrix(y_test, y_pred)\n",
    "    print(cm)\n",
    "\n",
    "    # Display the confusion matrix using a heatmap\n",
    "    plt.figure(figsize=(8, 6))\n",
    "    sns.heatmap(cm, annot=True, fmt=\"d\", cmap=\"Blues\", cbar=False)\n",
    "    plt.xlabel(\"Predicted Labels\")\n",
    "    plt.ylabel(\"True Labels\")\n",
    "    plt.title(\"Confusion Matrix\")\n",
    "    plt.savefig(os.path.join(output_dir, \"confusion_matrix.png\"))\n",
    "\n",
    "    # feature importance\n",
    "    feature_importances = model.feature_importances_\n",
    "    importance_df = pd.DataFrame({'Feature': X.columns, 'Importance': feature_importances})\n",
    "    importance_df = importance_df.sort_values(by='Importance', ascending=False)\n",
    "    importance_df.to_csv(os.path.join(output_dir, \"feature_imp.csv\"), index=False)\n",
    "    return importance_df\n"
   ]
  },
  {
   "cell_type": "code",
   "execution_count": 4,
   "metadata": {},
   "outputs": [],
   "source": [
    "group1='weight_loss'\n",
    "group2='adolescent'\n",
    "db ='all_chloroplast'\n",
    "scale = '100'\n",
    "k='21'\n",
    "group1_df = group_df(group1,db,scale,k)\n",
    "group2_df =group_df(group2,db,scale,k)"
   ]
  },
  {
   "cell_type": "code",
   "execution_count": 5,
   "metadata": {},
   "outputs": [
    {
     "data": {
      "text/plain": [
       "0.0004955401387512388"
      ]
     },
     "execution_count": 5,
     "metadata": {},
     "output_type": "execute_result"
    }
   ],
   "source": [
    "1/2018\n"
   ]
  },
  {
   "cell_type": "code",
   "execution_count": 6,
   "metadata": {},
   "outputs": [],
   "source": [
    "combined_df = combine_groups(group1_df,group2_df)"
   ]
  },
  {
   "cell_type": "code",
   "execution_count": 7,
   "metadata": {},
   "outputs": [
    {
     "name": "stdout",
     "output_type": "stream",
     "text": [
      "Accuracy: 1.00\n",
      "[[74  0]\n",
      " [ 0 11]]\n"
     ]
    },
    {
     "data": {
      "image/png": "[encoded data removed]",
      "text/plain": [
       "<Figure size 800x600 with 1 Axes>"
      ]
     },
     "metadata": {},
     "output_type": "display_data"
    }
   ],
   "source": [
    "importance_df =fit_rf(combined_df, '../test/')"
   ]
  },
  {
   "cell_type": "markdown",
   "metadata": {},
   "source": [
    "feature importance"
   ]
  },
  {
   "cell_type": "markdown",
   "metadata": {},
   "source": [
    "add # samples with hash in group1/group2; avg abundance\n",
    "sourmash compare containment\n",
    "sourmash sig kmer\n",
    "mumur hash inverse\n"
   ]
  },
  {
   "cell_type": "code",
   "execution_count": 8,
   "metadata": {},
   "outputs": [
    {
     "data": {
      "text/html": [
       "<div>\n",
       "<style scoped>\n",
       "    .dataframe tbody tr th:only-of-type {\n",
       "        vertical-align: middle;\n",
       "    }\n",
       "\n",
       "    .dataframe tbody tr th {\n",
       "        vertical-align: top;\n",
       "    }\n",
       "\n",
       "    .dataframe thead th {\n",
       "        text-align: right;\n",
       "    }\n",
       "</style>\n",
       "<table border=\"1\" class=\"dataframe\">\n",
       "  <thead>\n",
       "    <tr style=\"text-align: right;\">\n",
       "      <th></th>\n",
       "      <th>Feature</th>\n",
       "      <th>Importance</th>\n",
       "    </tr>\n",
       "  </thead>\n",
       "  <tbody>\n",
       "    <tr>\n",
       "      <th>136</th>\n",
       "      <td>157322820467948774</td>\n",
       "      <td>0.061463</td>\n",
       "    </tr>\n",
       "    <tr>\n",
       "      <th>27</th>\n",
       "      <td>25927711859011030</td>\n",
       "      <td>0.056003</td>\n",
       "    </tr>\n",
       "    <tr>\n",
       "      <th>128</th>\n",
       "      <td>145007500381155718</td>\n",
       "      <td>0.051341</td>\n",
       "    </tr>\n",
       "    <tr>\n",
       "      <th>153</th>\n",
       "      <td>180864512487652128</td>\n",
       "      <td>0.034232</td>\n",
       "    </tr>\n",
       "    <tr>\n",
       "      <th>170</th>\n",
       "      <td>22395183723216288</td>\n",
       "      <td>0.033736</td>\n",
       "    </tr>\n",
       "    <tr>\n",
       "      <th>...</th>\n",
       "      <td>...</td>\n",
       "      <td>...</td>\n",
       "    </tr>\n",
       "    <tr>\n",
       "      <th>1769</th>\n",
       "      <td>143027647371853571</td>\n",
       "      <td>0.000000</td>\n",
       "    </tr>\n",
       "    <tr>\n",
       "      <th>1770</th>\n",
       "      <td>145206942889920098</td>\n",
       "      <td>0.000000</td>\n",
       "    </tr>\n",
       "    <tr>\n",
       "      <th>1772</th>\n",
       "      <td>148559246575171253</td>\n",
       "      <td>0.000000</td>\n",
       "    </tr>\n",
       "    <tr>\n",
       "      <th>1774</th>\n",
       "      <td>151856935863654452</td>\n",
       "      <td>0.000000</td>\n",
       "    </tr>\n",
       "    <tr>\n",
       "      <th>4706</th>\n",
       "      <td>167655884306708992</td>\n",
       "      <td>0.000000</td>\n",
       "    </tr>\n",
       "  </tbody>\n",
       "</table>\n",
       "<p>4707 rows × 2 columns</p>\n",
       "</div>"
      ],
      "text/plain": [
       "                 Feature  Importance\n",
       "136   157322820467948774    0.061463\n",
       "27     25927711859011030    0.056003\n",
       "128   145007500381155718    0.051341\n",
       "153   180864512487652128    0.034232\n",
       "170    22395183723216288    0.033736\n",
       "...                  ...         ...\n",
       "1769  143027647371853571    0.000000\n",
       "1770  145206942889920098    0.000000\n",
       "1772  148559246575171253    0.000000\n",
       "1774  151856935863654452    0.000000\n",
       "4706  167655884306708992    0.000000\n",
       "\n",
       "[4707 rows x 2 columns]"
      ]
     },
     "execution_count": 8,
     "metadata": {},
     "output_type": "execute_result"
    }
   ],
   "source": [
    "importance_df"
   ]
  },
  {
   "cell_type": "code",
   "execution_count": 9,
   "metadata": {},
   "outputs": [
    {
     "data": {
      "text/plain": [
       "[157322820467948774,\n",
       " 25927711859011030,\n",
       " 145007500381155718,\n",
       " 180864512487652128,\n",
       " 22395183723216288,\n",
       " 108817344815512168,\n",
       " 67236570887032679,\n",
       " 70260550623951404,\n",
       " 124209537665470923,\n",
       " 70080496283005950,\n",
       " 4545284212519187,\n",
       " 123260659421435517,\n",
       " 66234594805937206,\n",
       " 37862007360175795,\n",
       " 53093492096633223,\n",
       " 123832700165545560,\n",
       " 76487970134418649,\n",
       " 165349534531629963,\n",
       " 129737435964824705,\n",
       " 145739580170291436,\n",
       " 97812032049937075,\n",
       " 181702909281689099,\n",
       " 65328438383603682,\n",
       " 56515289027222527,\n",
       " 23747984682712726,\n",
       " 152383311633480068,\n",
       " 86942152667088841,\n",
       " 93288012069095154,\n",
       " 24726383566599871,\n",
       " 84974814792789549,\n",
       " 34657222537158933,\n",
       " 56788218875501276,\n",
       " 174086437223723766,\n",
       " 28649107287341397,\n",
       " 12459344525005503,\n",
       " 80617810465017755,\n",
       " 120758982389519646,\n",
       " 165489901147563313,\n",
       " 169727000495138003,\n",
       " 30013712455239529,\n",
       " 80399825887935754,\n",
       " 13335391908316041,\n",
       " 141310845604765025,\n",
       " 124400057333023934,\n",
       " 31942080525041393,\n",
       " 126318844588866084,\n",
       " 167358459967001435,\n",
       " 64620614192258570,\n",
       " 111636634804587932,\n",
       " 6636926258102079]"
      ]
     },
     "execution_count": 9,
     "metadata": {},
     "output_type": "execute_result"
    }
   ],
   "source": [
    "importance_df['Feature'][:50].tolist()"
   ]
  },
  {
   "cell_type": "code",
   "execution_count": 10,
   "metadata": {},
   "outputs": [
    {
     "ename": "SyntaxError",
     "evalue": "expected ':' (1633820744.py, line 1)",
     "output_type": "error",
     "traceback": [
      "\u001b[1;36m  Cell \u001b[1;32mIn[10], line 1\u001b[1;36m\u001b[0m\n\u001b[1;33m    def hashes2sig(importance_df,n,name,k)\u001b[0m\n\u001b[1;37m                                          ^\u001b[0m\n\u001b[1;31mSyntaxError\u001b[0m\u001b[1;31m:\u001b[0m expected ':'\n"
     ]
    }
   ],
   "source": [
    "def hashes2sig(importance_df,n,name,k)\n",
    "    "
   ]
  },
  {
   "cell_type": "code",
   "execution_count": null,
   "metadata": {},
   "outputs": [],
   "source": [
    "sig_format =[{\"class\":\"sourmash_signature\",\"email\":\"\",\"hash_function\":\"0.murmur64\",\"filename\":None,\"name\":\"ERR11520689-known\",\"license\":\"CC0\",\"signatures\":[{\"num\":0,\"ksize\":51,\"seed\":42,\"max_hash\":184467440737095520,\"mins\":[5756550895798050,18258183296097495,33184746805409822,64575427079866475,90221529221383823,128845925818673832,130328166939714435,178750497274472558,179326412510026308],\"md5sum\":\"ec34a9d81ea0b3594b5d350bca52e359\",\"abundances\":[258,105,1,1,2,5,11,1,2063],\"molecule\":\"dna\"}],\"version\":0.4}]"
   ]
  },
  {
   "cell_type": "code",
   "execution_count": null,
   "metadata": {},
   "outputs": [],
   "source": [
    "sig_format[0]['signatures'][0]['mins'] = importance_df['Feature'][:50].tolist()\n",
    "sig_format[0]['signatures'][0]['abundances'] = importance_df['Importance'][:50].tolist()\n",
    "sig_format[0]['name']='feat_imp_test'\n",
    "\n",
    "sig_format[0]['signatures'][0]['ksize']=21"
   ]
  },
  {
   "cell_type": "code",
   "execution_count": null,
   "metadata": {},
   "outputs": [],
   "source": [
    "with open(\"../test/feature_imp.sig\", \"w\") as json_file:\n",
    "    json.dump(sig_format, json_file)"
   ]
  },
  {
   "cell_type": "markdown",
   "metadata": {},
   "source": [
    "\n",
    "histgram of hashes"
   ]
  }
 ],
 "metadata": {
  "kernelspec": {
   "display_name": "base",
   "language": "python",
   "name": "python3"
  },
  "language_info": {
   "codemirror_mode": {
    "name": "ipython",
    "version": 3
   },
   "file_extension": ".py",
   "mimetype": "text/x-python",
   "name": "python",
   "nbconvert_exporter": "python",
   "pygments_lexer": "ipython3",
   "version": "3.11.3"
  },
  "orig_nbformat": 4
 },
 "nbformat": 4,
 "nbformat_minor": 2
}
