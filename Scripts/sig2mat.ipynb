{
 "cells": [
  {
   "cell_type": "code",
   "execution_count": 10,
   "metadata": {},
   "outputs": [],
   "source": [
    "import pandas as pd\n",
    "import os\n",
    "import zipfile"
   ]
  },
  {
   "cell_type": "code",
   "execution_count": 11,
   "metadata": {},
   "outputs": [],
   "source": [
    "sketches_path = \"../snakemake-workflow/output/weight_loss/sketches/\""
   ]
  },
  {
   "cell_type": "code",
   "execution_count": 12,
   "metadata": {},
   "outputs": [
    {
     "ename": "KeyError",
     "evalue": "\"There is no item named 'ERR11520689.sig' in the archive\"",
     "output_type": "error",
     "traceback": [
      "\u001b[1;31m---------------------------------------------------------------------------\u001b[0m",
      "\u001b[1;31mKeyError\u001b[0m                                  Traceback (most recent call last)",
      "Cell \u001b[1;32mIn[12], line 2\u001b[0m\n\u001b[0;32m      1\u001b[0m \u001b[39mwith\u001b[39;00m zipfile\u001b[39m.\u001b[39mZipFile(sketches_path\u001b[39m+\u001b[39m\u001b[39m'\u001b[39m\u001b[39mERR11520689.sig.zip\u001b[39m\u001b[39m'\u001b[39m,\u001b[39m'\u001b[39m\u001b[39mr\u001b[39m\u001b[39m'\u001b[39m) \u001b[39mas\u001b[39;00m z:\n\u001b[1;32m----> 2\u001b[0m     z\u001b[39m.\u001b[39mextract(\u001b[39m'\u001b[39m\u001b[39mERR11520689.sig\u001b[39m\u001b[39m'\u001b[39m,path\u001b[39m=\u001b[39m\u001b[39m'\u001b[39m\u001b[39msketch_unzip\u001b[39m\u001b[39m'\u001b[39m)\n",
      "File \u001b[1;32mc:\\Users\\sande\\anaconda3\\Lib\\zipfile.py:1662\u001b[0m, in \u001b[0;36mZipFile.extract\u001b[1;34m(self, member, path, pwd)\u001b[0m\n\u001b[0;32m   1659\u001b[0m \u001b[39melse\u001b[39;00m:\n\u001b[0;32m   1660\u001b[0m     path \u001b[39m=\u001b[39m os\u001b[39m.\u001b[39mfspath(path)\n\u001b[1;32m-> 1662\u001b[0m \u001b[39mreturn\u001b[39;00m \u001b[39mself\u001b[39m\u001b[39m.\u001b[39m_extract_member(member, path, pwd)\n",
      "File \u001b[1;32mc:\\Users\\sande\\anaconda3\\Lib\\zipfile.py:1701\u001b[0m, in \u001b[0;36mZipFile._extract_member\u001b[1;34m(self, member, targetpath, pwd)\u001b[0m\n\u001b[0;32m   1697\u001b[0m \u001b[39m\u001b[39m\u001b[39m\"\"\"Extract the ZipInfo object 'member' to a physical\u001b[39;00m\n\u001b[0;32m   1698\u001b[0m \u001b[39m   file on the path targetpath.\u001b[39;00m\n\u001b[0;32m   1699\u001b[0m \u001b[39m\"\"\"\u001b[39;00m\n\u001b[0;32m   1700\u001b[0m \u001b[39mif\u001b[39;00m \u001b[39mnot\u001b[39;00m \u001b[39misinstance\u001b[39m(member, ZipInfo):\n\u001b[1;32m-> 1701\u001b[0m     member \u001b[39m=\u001b[39m \u001b[39mself\u001b[39m\u001b[39m.\u001b[39mgetinfo(member)\n\u001b[0;32m   1703\u001b[0m \u001b[39m# build the destination pathname, replacing\u001b[39;00m\n\u001b[0;32m   1704\u001b[0m \u001b[39m# forward slashes to platform specific separators.\u001b[39;00m\n\u001b[0;32m   1705\u001b[0m arcname \u001b[39m=\u001b[39m member\u001b[39m.\u001b[39mfilename\u001b[39m.\u001b[39mreplace(\u001b[39m'\u001b[39m\u001b[39m/\u001b[39m\u001b[39m'\u001b[39m, os\u001b[39m.\u001b[39mpath\u001b[39m.\u001b[39msep)\n",
      "File \u001b[1;32mc:\\Users\\sande\\anaconda3\\Lib\\zipfile.py:1475\u001b[0m, in \u001b[0;36mZipFile.getinfo\u001b[1;34m(self, name)\u001b[0m\n\u001b[0;32m   1473\u001b[0m info \u001b[39m=\u001b[39m \u001b[39mself\u001b[39m\u001b[39m.\u001b[39mNameToInfo\u001b[39m.\u001b[39mget(name)\n\u001b[0;32m   1474\u001b[0m \u001b[39mif\u001b[39;00m info \u001b[39mis\u001b[39;00m \u001b[39mNone\u001b[39;00m:\n\u001b[1;32m-> 1475\u001b[0m     \u001b[39mraise\u001b[39;00m \u001b[39mKeyError\u001b[39;00m(\n\u001b[0;32m   1476\u001b[0m         \u001b[39m'\u001b[39m\u001b[39mThere is no item named \u001b[39m\u001b[39m%r\u001b[39;00m\u001b[39m in the archive\u001b[39m\u001b[39m'\u001b[39m \u001b[39m%\u001b[39m name)\n\u001b[0;32m   1478\u001b[0m \u001b[39mreturn\u001b[39;00m info\n",
      "\u001b[1;31mKeyError\u001b[0m: \"There is no item named 'ERR11520689.sig' in the archive\""
     ]
    }
   ],
   "source": [
    "with zipfile.ZipFile(sketches_path+'ERR11520689.sig.zip','r') as z:\n",
    "    z.extract('ERR11520689.sig',path='sketch_unzip')\n",
    "    "
   ]
  }
 ],
 "metadata": {
  "kernelspec": {
   "display_name": "base",
   "language": "python",
   "name": "python3"
  },
  "language_info": {
   "codemirror_mode": {
    "name": "ipython",
    "version": 3
   },
   "file_extension": ".py",
   "mimetype": "text/x-python",
   "name": "python",
   "nbconvert_exporter": "python",
   "pygments_lexer": "ipython3",
   "version": "3.11.3"
  },
  "orig_nbformat": 4
 },
 "nbformat": 4,
 "nbformat_minor": 2
}
